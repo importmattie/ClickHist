{
 "cells": [
  {
   "cell_type": "markdown",
   "metadata": {},
   "source": [
    "Clickable Histogram of Atmospheric Data (CHAD)\n",
    "\n",
    "Author: Matthew Niznik (matthew.niznik9@gmail.com)<br>\n",
    "Post-Doctoral Associate, RSMAS, University of Miami\n",
    "\n",
    "The purpose of the Clickable Histogram of Atmospheric Data (CHAD) is to load a 2-D histogram and the data used to generate it in order to create a 2-D scatterplot allowing the user to load the location and time that a particular datapoint in the plot came from using Unidata's Integrated Data Viewer (IDV) (http://www.unidata.ucar.edu/software/idv/).\n",
    "\n",
    "For more information, see https://sites.google.com/site/matthewjniznik/research/chad_instructions\n",
    "\n",
    "Creating an instance of the CHAD class generates the plot from the input data and then waits for user input clicks.\n",
    "\n",
    "(Note: iPython Notebook needs a few tweaks to work most seemlessly with the CHAD instances - those will be pointed out below as they come up.)"
   ]
  },
  {
   "cell_type": "code",
   "execution_count": null,
   "metadata": {
    "collapsed": false
   },
   "outputs": [],
   "source": [
    "#--- User Changeable Parameters (and appropriate libraries) ---\n",
    "\n",
    "#--- Figure Size and Resolution ---\n",
    "#--- Set the figure x by y resolution, DPI, and the max number of points to appear in a given bin ---\n",
    "#--- (Plotting time as well as finding an individual event prohibitive for very large maxPlottedInBin values)\n",
    "figureXSize = 800\n",
    "figureYSize = 800\n",
    "figDPI = 150\n",
    "maxPlottedInBin = 25\n",
    "\n",
    "#--- Formatting for Output ---\n",
    "#--- Basic Help: The number after the decimal point sets the number of decimal points shown in output ---\n",
    "#--- For more on Python string formatting, see: () ---\n",
    "xFmtStr = \"%.2f\"\n",
    "yFmtStr = \"%.2f\"\n",
    "\n",
    "#--- Start time is needed so that an appropriate time will be loaded upon calls to IDV ---\n",
    "import datetime\n",
    "startYear = 2005\n",
    "startMonth = 06\n",
    "startDay = 01\n",
    "startDate = datetime.datetime(startYear,startMonth,startDay)\n",
    "\n",
    "#--- Load Input from URL/Filepath ---\n",
    "var1Name = 'Precipitation'\n",
    "var2Name = 'W500'\n",
    "\n",
    "urlToLoadHist = 'https://weather.rsmas.miami.edu/repository/opendap/synth:4fd8f0b4-7cc2-411a-9b61-2ef0c24c1637:L0hWX3I5MHg0NV8zXzBONVRfcHJfdGVmLm5jNA==/entry.das'\n",
    "\n",
    "histName = 'HIST'\n",
    "var1EdgeName = 'PRECBINEDGES'\n",
    "var2EdgeName = 'TEEFBINEDGES'\n",
    "var1BinnedName = 'PRECBINNED'\n",
    "var2BinnedName = 'TEEFBINNED'\n",
    "\n",
    "urlToLoadValues = urlToLoadHist\n",
    "\n",
    "var1ValueName = 'PREC'\n",
    "var2ValueName = 'TEEF'\n",
    "var1Units = 'mm/day'\n",
    "var2Units = 'J m kg-1 s-1'\n",
    "var1ValueMult = 86400.\n",
    "var2ValueMult = 1.\n",
    "\n",
    "lonValueName = 'lon'\n",
    "latValueName = 'lat'\n",
    "timeValueName = 'time'"
   ]
  },
  {
   "cell_type": "code",
   "execution_count": null,
   "metadata": {
    "collapsed": false
   },
   "outputs": [],
   "source": [
    "#--- Setting the GUI ---\n",
    "#--- CHAD is currently optimized for tk ---\n",
    "#--- For more options see section \"%matplotlib\" at ---\n",
    "#--- https://ipython.org/ipython-doc/3/interactive/magics.html ---\n",
    "%matplotlib tk\n",
    "\n",
    "from IPython.display import clear_output\n",
    "\n",
    "import matplotlib\n",
    "\n",
    "import netCDF4\n",
    "import numpy as np\n",
    "\n",
    "import sys\n",
    "\n",
    "import CHAD"
   ]
  },
  {
   "cell_type": "code",
   "execution_count": null,
   "metadata": {
    "collapsed": true
   },
   "outputs": [],
   "source": [
    "#--- Fixing the output so it isn't buffered ---\n",
    "#--- See: http://stackoverflow.com/questions/29772158/make-ipython-notebook-print-in-real-time ---\n",
    "\n",
    "oldsysstdout = sys.stdout\n",
    "class flushfile():\n",
    "    def __init__(self, f):\n",
    "        self.f = f\n",
    "    def __getattr__(self,name): \n",
    "        return object.__getattribute__(self.f, name)\n",
    "    def write(self, x):\n",
    "        self.f.write(x)\n",
    "        self.f.flush()\n",
    "    def flush(self):\n",
    "        self.f.flush()\n",
    "sys.stdout = flushfile(sys.stdout)"
   ]
  },
  {
   "cell_type": "code",
   "execution_count": null,
   "metadata": {
    "collapsed": false
   },
   "outputs": [],
   "source": [
    "#--- Load the Data ---\n",
    "\n",
    "#--- Histogram Data ---\n",
    "cdfInHist = netCDF4.Dataset(urlToLoadHist,'r')\n",
    "hist = cdfInHist.variables[histName][:]\n",
    "var1Edges = cdfInHist.variables[var1EdgeName][:]\n",
    "var2Edges = cdfInHist.variables[var2EdgeName][:]\n",
    "var1Binned = cdfInHist.variables[var1BinnedName][:]\n",
    "var2Binned = cdfInHist.variables[var2BinnedName][:]\n",
    "cdfInHist.close()\n",
    "\n",
    "#--- Value Data ---\n",
    "cdfInValues = netCDF4.Dataset(urlToLoadValues,'r')\n",
    "var1Values = cdfInValues.variables[var1ValueName][:]*var1ValueMult\n",
    "var2Values = cdfInValues.variables[var2ValueName][:]*var2ValueMult\n",
    "lonValues = cdfInValues.variables[lonValueName][:]\n",
    "latValues = cdfInValues.variables[latValueName][:]\n",
    "timeValues = cdfInValues.variables[timeValueName][:]\n",
    "cdfInValues.close()\n",
    "\n",
    "#--- Determine the start time ---\n",
    "startHourInS = (timeValues[1]-timeValues[0])*(60./2.)\n",
    "startDatetime = startDate+datetime.timedelta(0,startHourInS)"
   ]
  },
  {
   "cell_type": "code",
   "execution_count": null,
   "metadata": {
    "collapsed": false
   },
   "outputs": [],
   "source": [
    "#--- Create CHAD using a proper call ---\n",
    "%qtconsole\n",
    "\n",
    "CHAD1 = CHAD.CHAD(hist,var1Edges,var2Edges,var1Binned,var2Binned,\n",
    "                  lonValues,latValues,timeValues,startDatetime,var1Values,var2Values,\n",
    "                  maxPlottedInBin,figureXSize,figureYSize,figDPI,\n",
    "                  var1ValueName,var2ValueName,var1Units,var2Units,xFmtStr,yFmtStr)\n",
    "CHAD1.showPlot()"
   ]
  },
  {
   "cell_type": "code",
   "execution_count": null,
   "metadata": {
    "collapsed": false
   },
   "outputs": [],
   "source": []
  },
  {
   "cell_type": "code",
   "execution_count": null,
   "metadata": {
    "collapsed": true
   },
   "outputs": [],
   "source": []
  },
  {
   "cell_type": "code",
   "execution_count": null,
   "metadata": {
    "collapsed": true
   },
   "outputs": [],
   "source": []
  }
 ],
 "metadata": {
  "kernelspec": {
   "display_name": "Python 2",
   "language": "python",
   "name": "python2"
  },
  "language_info": {
   "codemirror_mode": {
    "name": "ipython",
    "version": 2
   },
   "file_extension": ".py",
   "mimetype": "text/x-python",
   "name": "python",
   "nbconvert_exporter": "python",
   "pygments_lexer": "ipython2",
   "version": "2.7.10"
  }
 },
 "nbformat": 4,
 "nbformat_minor": 0
}
