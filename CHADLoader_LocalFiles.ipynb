{
 "cells": [
  {
   "cell_type": "markdown",
   "metadata": {},
   "source": [
    "Clickable Histogram of Atmospheric Data (CHAD)\n",
    "\n",
    "Author: Matthew Niznik (mailto:matthew.niznik9@gmail.com)<br>\n",
    "Post-Doctoral Associate, RSMAS, University of Miami\n",
    "\n",
    "The purpose of the Clickable Histogram of Atmospheric Data (CHAD) is to load a 2-D histogram and the data used to generate it in order to create a 2-D scatterplot allowing the user to load the location and time that a particular datapoint in the plot came from using Unidata's Integrated Data Viewer (IDV) (http://www.unidata.ucar.edu/software/idv/).\n",
    "\n",
    "Input needed:\n",
    "\n",
    "CHAD(hist,xBinEdges,yBinEdges,lons,lats,times,startDatetime,<br>\n",
    "     xData,yData,xDataBinned,yDataBinned,maxPlottedInBin,<br>\n",
    "     figXPixelsReq,figYPixelsReq,figDPIReq,xFmtStr,yFmtStr)<br>\n",
    "\n",
    "hist: Binned 2-D histogram data<br>\n",
    "xBinEdges,yBinEdges: 1-D arrays containing the edges of each histogram bin (i.e. if 10x10, 11 entry long arrays)<br>\n",
    "lons,lats: 1-D arrays containing the longitude and latitudes for xData and yData<br>\n",
    "times,startDatetime: a 1-D array containing the number of (minutes?) since the startDatetime (a Datetime object)<br>\n",
    "xData,yData: 3-D [F(x,y,t)] variables for the scatter plot (Ex: Precipitation and W(z=500 hPa))<br>\n",
    "xDataBinned,yDataBinned: 3-D [F(x,y,t)] variables containing only the bin values in X and Y (saves sorting time)<br>\n",
    "maxPlottedInBin: value to keep the number of data points reasonable in terms of finding a close match via click<br>\n",
    "figXPixels,figYPixels,figDPI: specify the size and resolution of the CHAD<br>\n",
    "xFmtStr,yFmtStr: Python format strings (e.g. \"%.1f\") specifying a reasonable formatting for click output<br>\n",
    "\n",
    "Creating an instance of the CHAD class generates the plot from the input data and then waits for user input clicks.\n",
    "\n",
    "(Note: iPython Notebook needs a few tweaks to work most seemlessly with the CHAD instances - those will be pointed out below as they come up.)"
   ]
  },
  {
   "cell_type": "code",
   "execution_count": null,
   "metadata": {
    "collapsed": true
   },
   "outputs": [],
   "source": [
    "#--- User Changeable Parameters (and appropriate libraries) ---\n",
    "\n",
    "#--- Figure Size and Resolution ---\n",
    "#--- Set the figure x by y resolution, DPI, and the max number of points to appear in a given bin ---\n",
    "#--- (Plotting time as well as finding an individual event prohibitive for very large maxPlottedInBin values)\n",
    "figureXSize = 800\n",
    "figureYSize = 800\n",
    "figDPI = 150\n",
    "maxPlottedInBin = 25\n",
    "\n",
    "#--- Formatting for Output ---\n",
    "#--- Basic Help: The number after the decimal point sets the number of decimal points shown in output ---\n",
    "#--- For more on Python string formatting, see: () ---\n",
    "xFmtStr = \"%.2f\"\n",
    "yFmtStr = \"%.2f\"\n",
    "\n",
    "#--- Start time is needed so that an appropriate time will be loaded upon calls to IDV ---\n",
    "import datetime\n",
    "startYear = 2005\n",
    "startMonth = 06\n",
    "startDay = 01\n",
    "startDate = datetime.datetime(startYear,startMonth,startDay)\n",
    "\n",
    "#--- Load Input from URL/Filepath ---\n",
    "var1Name = 'Precipitation'\n",
    "var2Name = 'W500'\n",
    "\n",
    "urlToLoadHist = '/Users/niznik/Work/Data/CHAD_Data/histOutput_r90x45_3_V2.nc4'\n",
    "\n",
    "histName = 'HIST'\n",
    "var1EdgeName = 'PRECBIN'\n",
    "var2EdgeName = 'W500BIN'\n",
    "var1BinnedName = 'PRECBINNED'\n",
    "var2BinnedName = 'W500BINNED'\n",
    "\n",
    "urlToLoadValues = '/Users/niznik/Work/Data/CHAD_Data/allVars_r90x45_3.nc4'\n",
    "\n",
    "var1ValueName = 'PREC'\n",
    "var2ValueName = 'W'\n",
    "var1ValueMult = 86400.\n",
    "var2ValueMult = 1.\n",
    "\n",
    "lonValueName = 'lon'\n",
    "latValueName = 'lat'\n",
    "timeValueName = 'time'"
   ]
  },
  {
   "cell_type": "code",
   "execution_count": null,
   "metadata": {
    "collapsed": false
   },
   "outputs": [],
   "source": [
    "from IPython.display import clear_output\n",
    "\n",
    "import netCDF4\n",
    "import numpy as np\n",
    "\n",
    "import CHAD"
   ]
  },
  {
   "cell_type": "code",
   "execution_count": null,
   "metadata": {
    "collapsed": true
   },
   "outputs": [],
   "source": [
    "#--- Fixing the output so it isn't buffered ---\n",
    "#--- See: http://stackoverflow.com/questions/29772158/make-ipython-notebook-print-in-real-time ---\n",
    "\n",
    "oldsysstdout = sys.stdout\n",
    "class flushfile():\n",
    "    def __init__(self, f):\n",
    "        self.f = f\n",
    "    def __getattr__(self,name): \n",
    "        return object.__getattribute__(self.f, name)\n",
    "    def write(self, x):\n",
    "        self.f.write(x)\n",
    "        self.f.flush()\n",
    "    def flush(self):\n",
    "        self.f.flush()\n",
    "sys.stdout = flushfile(sys.stdout)"
   ]
  },
  {
   "cell_type": "code",
   "execution_count": null,
   "metadata": {
    "collapsed": true
   },
   "outputs": [],
   "source": [
    "#--- Load the Data ---\n",
    "#--- Note: this is where user knowledge of the local data is useful ---\n",
    "#--- Data needs to be processed into the form that CHAD expects ---\n",
    "lonBin = 0\n",
    "latBin = 5\n",
    "Nx = 90\n",
    "Ny = 45\n",
    "numLonBins = 10\n",
    "numLatBins = 9\n",
    "firstTimeValues = 8*16\n",
    "lastTimeValues = -1*8*15\n",
    "\n",
    "#--- Load Histogram and Bin Edges ---\n",
    "cdfInHist = netCDF4.Dataset(urlToLoadHist,'r')\n",
    "hist = np.sum(cdfInHist.variables[histName][:,lonBin,latBin,:,:,:,:,:,:],(0,3,4,5,6))\n",
    "var1Edges = np.append(cdfInHist.variables[var1EdgeName+'MINS'][0],cdfInHist.variables[var1EdgeName+'MAXS'][:])\n",
    "var2Edges = np.append(cdfInHist.variables[var2EdgeName+'MINS'][0],cdfInHist.variables[var2EdgeName+'MAXS'][:])\n",
    "\n",
    "lonAVMin = lonBin*(Nx/numLonBins)\n",
    "lonAVMax = lonAVMin+(Nx/numLonBins)\n",
    "latAVMin = latBin*(Ny/numLatBins)\n",
    "latAVMax = latAVMin+(Ny/numLatBins)\n",
    "\n",
    "var1Binned = cdfInHist.variables[var1BinnedName][:,latAVMin:latAVMax,lonAVMin:lonAVMax]\n",
    "var2Binned = cdfInHist.variables[var2BinnedName][:,latAVMin:latAVMax,lonAVMin:lonAVMax]\n",
    "cdfInHist.close()\n",
    "\n",
    "#--- Load Timeseries ---\n",
    "#--- Note: Add multiplier options for both var1 and var2 values instead of hardwiring\n",
    "cdfInValues = netCDF4.Dataset(urlToLoadValues,'r')\n",
    "var1Values = cdfInValues.variables[var1ValueName][firstTimeValues:lastTimeValues,\n",
    "                                                  latAVMin:latAVMax,lonAVMin:lonAVMax]*var1ValueMult\n",
    "var2Values = cdfInValues.variables[var2ValueName][firstTimeValues:lastTimeValues,\n",
    "                                                  latAVMin:latAVMax,lonAVMin:lonAVMax]*var2ValueMult\n",
    "lonValues = cdfInValues.variables[lonValueName][lonAVMin:lonAVMax]\n",
    "latValues = cdfInValues.variables[latValueName][latAVMin:latAVMax]\n",
    "timeValues = cdfInValues.variables[timeValueName][firstTimeValues:lastTimeValues]\n",
    "cdfInValues.close()\n",
    "\n",
    "startHourInS = (timeValues[1]-timeValues[0])*(60./2.)\n",
    "startDatetime = startDate+datetime.timedelta(0,startHourInS)"
   ]
  },
  {
   "cell_type": "code",
   "execution_count": null,
   "metadata": {
    "collapsed": false
   },
   "outputs": [],
   "source": [
    "#--- Create CHAD using a proper call ---\n",
    "%qtconsole\n",
    "\n",
    "CHAD1 = CHAD.CHAD(hist,var1Edges,var2Edges,lonValues,latValues,timeValues,\n",
    "                  startDatetime,var1Values,var2Values,var1Binned,var2Binned,\n",
    "                  maxPlottedInBin,figureXSize,figureYSize,figDPI,\n",
    "                  xFmtStr,yFmtStr)\n",
    "CHAD1.showPlot()"
   ]
  },
  {
   "cell_type": "code",
   "execution_count": null,
   "metadata": {
    "collapsed": false
   },
   "outputs": [],
   "source": []
  },
  {
   "cell_type": "code",
   "execution_count": null,
   "metadata": {
    "collapsed": true
   },
   "outputs": [],
   "source": []
  }
 ],
 "metadata": {
  "kernelspec": {
   "display_name": "Python 2",
   "language": "python",
   "name": "python2"
  },
  "language_info": {
   "codemirror_mode": {
    "name": "ipython",
    "version": 2
   },
   "file_extension": ".py",
   "mimetype": "text/x-python",
   "name": "python",
   "nbconvert_exporter": "python",
   "pygments_lexer": "ipython2",
   "version": "2.7.10"
  }
 },
 "nbformat": 4,
 "nbformat_minor": 0
}
