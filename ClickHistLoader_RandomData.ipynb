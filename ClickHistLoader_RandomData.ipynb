{
 "cells": [
  {
   "cell_type": "markdown",
   "metadata": {},
   "source": [
    "## Clickable Histogram (ClickHist)\n",
    "\n",
    "Author: [Matthew Niznik](http://matthewniznik.com) ([matt@matthewniznik.com](mailto:matt@matthewniznik.com))<br>\n",
    "Post-Doctoral Associate, RSMAS, University of Miami\n",
    "\n",
    "For more information, see:<br>\n",
    "https://github.com/matthewniznik/ClickHist/wiki<br>\n",
    "http://matthewniznik.com/research-projects/clickhist<br>\n",
    "\n",
    "(Note: iPython Notebook needs a few tweaks to work most seemlessly with ClickHist and ClickHistDo instances - those will be pointed out below as they come up.)"
   ]
  },
  {
   "cell_type": "code",
   "execution_count": null,
   "metadata": {
    "collapsed": false
   },
   "outputs": [],
   "source": [
    "# User Changeable Parameters (and appropriate libraries)\n",
    "\n",
    "# Figure Size and Resolution\n",
    "# Set the figure x by y resolution, DPI, and the max number of points\n",
    "# to appear in a given bin\n",
    "# (Plotting time as well as finding an individual event prohibitive\n",
    "# for very large maxPlottedInBin values)\n",
    "# (These are OPTIONAL inputs to ClickHist: figX=?, figY=?,\n",
    "# figDPI=?, maxPlottedInBin=?)\n",
    "figureXSize = 800\n",
    "figureYSize = 800\n",
    "figDPI = 150\n",
    "maxPlottedInBin_UD = 1000\n",
    "\n",
    "# Formatting for Output\n",
    "# Basic Help: The number after the decimal point sets the number of\n",
    "# decimal points shown in output\n",
    "# For more on Python string formatting, see:\n",
    "# (https://mkaz.github.io/2012/10/10/python-string-format/)\n",
    "# These are OPTIONAL inputs to ClickHist: xFmtStr=?,yFmtStr=?)\n",
    "var1FmtStr = \"{:0.3f}\"\n",
    "var2FmtStr = \"{:0.3f}\"\n",
    "\n",
    "# Variable Names and Units\n",
    "# These are optional descriptive inputs to both ClickHist\n",
    "# and (some) to ClickHistDo so that the ClickHist\n",
    "# and the output bundle are labeled properly\n",
    "var1Name = 'Sample X'\n",
    "var2Name = 'Sample Y'\n",
    "var1Units = 'units'\n",
    "var2Units = 'units'\n",
    "metadata_UD = 'Sample Metadata'\n",
    "\n",
    "# Unit correction options\n",
    "# If the units in the input file are not what is desired,\n",
    "# they can be corrected during the load with these multipliers.\n",
    "var1ValueMult = 1.\n",
    "var2ValueMult = 1."
   ]
  },
  {
   "cell_type": "code",
   "execution_count": null,
   "metadata": {
    "collapsed": false
   },
   "outputs": [],
   "source": [
    "# Setting the GUI \n",
    "# ClickHist is currently optimized for tk\n",
    "# For more options see section \"%matplotlib\" at\n",
    "# https://ipython.org/ipython-doc/3/interactive/magics.html\n",
    "\n",
    "# matplotlib for graphics, set tk too\n",
    "# %matplotlib osx is experimental\n",
    "%matplotlib tk\n",
    "#%matplotlib osx\n",
    "import matplotlib\n",
    "\n",
    "# (Note: for debugging, replace '%' command with\n",
    "# matplotlib.use)\n",
    "#matplotlib.use('TkAgg')\n",
    "\n",
    "# Modules for fixing the buffer in cell 3 \n",
    "from IPython.display import clear_output\n",
    "import sys\n",
    "\n",
    "# numpy to create the sample input arrays\n",
    "import numpy as np\n",
    "\n",
    "# And obviously import ClickHist and ClickHistDo!\n",
    "import ClickHist\n",
    "\n",
    "# User-specified imports\n",
    "# You can put your custom imports here"
   ]
  },
  {
   "cell_type": "code",
   "execution_count": null,
   "metadata": {
    "collapsed": true
   },
   "outputs": [],
   "source": [
    "# Fixing the output so it isn't buffered\n",
    "# See: http://stackoverflow.com/questions/29772158/make-ipython-notebook-print-in-real-time\n",
    "\n",
    "oldsysstdout = sys.stdout\n",
    "class flushfile():\n",
    "    def __init__(self, f):\n",
    "        self.f = f\n",
    "    def __getattr__(self,name): \n",
    "        return object.__getattribute__(self.f, name)\n",
    "    def write(self, x):\n",
    "        self.f.write(x)\n",
    "        self.f.flush()\n",
    "    def flush(self):\n",
    "        self.f.flush()\n",
    "sys.stdout = flushfile(sys.stdout)"
   ]
  },
  {
   "cell_type": "code",
   "execution_count": null,
   "metadata": {
    "collapsed": false
   },
   "outputs": [],
   "source": [
    "# Create the sample data\n",
    "# If you would rather load data in and not manually specify\n",
    "# variable values, this cell (or a new, empty cell above this\n",
    "# one) is an appropriate location\n",
    "\n",
    "# Manual Bin Definition\n",
    "# Later call to create ClickHist uses the below variable names\n",
    "# You should probably leave the names alone\n",
    "var1Edges = np.arange(-1.1,1.1+0.01,0.2)\n",
    "var2Edges = np.arange(-1.1,1.1+0.01,0.2)\n",
    "\n",
    "# Manual Value Definition\n",
    "# Later call to create ClickHist uses the below variable names\n",
    "# You should probably leave the names alone\n",
    "numOfValues = 10000\n",
    "#var1Values = (0.5-np.random.rand(numOfValues))*2\n",
    "#var2Values = (0.5-np.random.rand(numOfValues))*2\n",
    "#var1Values = np.random.normal(loc=0.,scale=0.2,size=numOfValues)\n",
    "#var2Values = np.random.normal(loc=0.,scale=0.2,size=numOfValues)\n",
    "#randomValues = (0.5-np.random.rand(numOfValues))*2\n",
    "randomValues = np.random.normal(loc=0.0,scale=0.25,size=numOfValues)\n",
    "var1Values = randomValues+np.random.normal(loc=0.0,scale=0.1,\n",
    "                                           size=numOfValues)\n",
    "var2Values = np.zeros(numOfValues)\n",
    "for i in range(0,numOfValues):\n",
    "    if(np.random.random() < 0.5):\n",
    "        var2Values[i] = randomValues[i]\n",
    "    else:\n",
    "        var2Values[i] = -1.*randomValues[i]\n",
    "    var2Values[i] = var2Values[i] + np.random.normal(loc=0.0,scale=0.1)"
   ]
  },
  {
   "cell_type": "code",
   "execution_count": null,
   "metadata": {
    "collapsed": false
   },
   "outputs": [],
   "source": [
    "# Create ClickHist using a proper call\n",
    "# If you only changed variable values in cells 1 and 4 above,\n",
    "# ClickHist is ready to go!\n",
    "\n",
    "# This call is necessary to create the output console for ClickHist\n",
    "# (Note: for debugging, comment out '%' command)\n",
    "%qtconsole\n",
    "\n",
    "# Create a ClickHist instance\n",
    "ClickHist1 = ClickHist.ClickHist(var1Edges,var2Edges,\n",
    "                                 var1Values,var2Values,\n",
    "                                xVarName=var1Name,yVarName=var2Name,\n",
    "                                xUnits=var1Units,yUnits=var2Units,\n",
    "                                xFmtStr=var1FmtStr,\n",
    "                                 yFmtStr=var2FmtStr,\n",
    "                                maxPlottedInBin=maxPlottedInBin_UD)\n",
    "# Show the ClickHist\n",
    "ClickHist1.showPlot()"
   ]
  },
  {
   "cell_type": "code",
   "execution_count": null,
   "metadata": {
    "collapsed": true
   },
   "outputs": [],
   "source": []
  }
 ],
 "metadata": {
  "kernelspec": {
   "display_name": "Python 2",
   "language": "python",
   "name": "python2"
  },
  "language_info": {
   "codemirror_mode": {
    "name": "ipython",
    "version": 2
   },
   "file_extension": ".py",
   "mimetype": "text/x-python",
   "name": "python",
   "nbconvert_exporter": "python",
   "pygments_lexer": "ipython2",
   "version": "2.7.11"
  }
 },
 "nbformat": 4,
 "nbformat_minor": 0
}
