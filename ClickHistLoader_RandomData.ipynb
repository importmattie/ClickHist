{
 "cells": [
  {
   "cell_type": "markdown",
   "metadata": {},
   "source": [
    "Clickable Histogram (ClickHist)\n",
    "\n",
    "Author: Matthew Niznik (matthew.niznik9@gmail.com)<br>\n",
    "Post-Doctoral Associate, RSMAS, University of Miami\n",
    "\n",
    "For more information, see https://sites.google.com/site/matthewjniznik/research/clickhist\n",
    "\n",
    "(Note: iPython Notebook needs a few tweaks to work most seemlessly with ClickHist - those will be pointed out below as they come up.)"
   ]
  },
  {
   "cell_type": "code",
   "execution_count": null,
   "metadata": {
    "collapsed": false
   },
   "outputs": [],
   "source": [
    "#--- User Changeable Parameters (and appropriate libraries) ---\n",
    "\n",
    "#--- Figure Size and Resolution ---\n",
    "#--- Set the figure x by y resolution, DPI, and the max number of points to appear in a given bin ---\n",
    "#--- (Plotting time as well as finding an individual event prohibitive for very large maxPlottedInBin values)\n",
    "#--- (These are OPTIONAL inputs to ClickHist: figX=?, figY=?, figDPI=?, maxPlottedInBin=?)\n",
    "figureXSize = 800\n",
    "figureYSize = 800\n",
    "figDPI = 150\n",
    "maxPlottedInBin_UD = 2500\n",
    "\n",
    "#--- Formatting for Output ---\n",
    "#--- Basic Help: The number after the decimal point sets the number of decimal points shown in output ---\n",
    "#--- For more on Python string formatting, see: () ---\n",
    "#--- (These are OPTIONAL inputs to ClickHist: xFmtStr=?,yFmtStr=?)\n",
    "var1FmtStr = \"%0.3f\"\n",
    "var2FmtStr = \"%0.3f\"\n",
    "\n",
    "#--- Variable Names and Units ---\n",
    "#These are optional descriptive inputs to both ClickHist and (some) to ClickHistDo so that the ClickHist\n",
    "#and the output bundle are labeled properly\n",
    "var1ValueName = 'Sample X'\n",
    "var2ValueName = 'Sample Y'\n",
    "var1Units = 'units'\n",
    "var2Units = 'units'\n",
    "\n",
    "#--- Unit correction options ---\n",
    "#If the units in the input file are not what is desired, they can be corrected during the load with\n",
    "#these multipliers.\n",
    "var1ValueMult = 1.\n",
    "var2ValueMult = 1."
   ]
  },
  {
   "cell_type": "code",
   "execution_count": null,
   "metadata": {
    "collapsed": false
   },
   "outputs": [],
   "source": [
    "#--- Setting the GUI ---\n",
    "#--- ClickHist is currently optimized for tk ---\n",
    "#--- For more options see section \"%matplotlib\" at ---\n",
    "#--- https://ipython.org/ipython-doc/3/interactive/magics.html ---\n",
    "%matplotlib tk\n",
    "\n",
    "from IPython.display import clear_output\n",
    "\n",
    "import matplotlib\n",
    "\n",
    "import numpy as np\n",
    "\n",
    "import sys\n",
    "\n",
    "import ClickHist"
   ]
  },
  {
   "cell_type": "code",
   "execution_count": null,
   "metadata": {
    "collapsed": true
   },
   "outputs": [],
   "source": [
    "#--- Fixing the output so it isn't buffered ---\n",
    "#--- See: http://stackoverflow.com/questions/29772158/make-ipython-notebook-print-in-real-time ---\n",
    "\n",
    "oldsysstdout = sys.stdout\n",
    "class flushfile():\n",
    "    def __init__(self, f):\n",
    "        self.f = f\n",
    "    def __getattr__(self,name): \n",
    "        return object.__getattribute__(self.f, name)\n",
    "    def write(self, x):\n",
    "        self.f.write(x)\n",
    "        self.f.flush()\n",
    "    def flush(self):\n",
    "        self.f.flush()\n",
    "sys.stdout = flushfile(sys.stdout)"
   ]
  },
  {
   "cell_type": "code",
   "execution_count": null,
   "metadata": {
    "collapsed": false
   },
   "outputs": [],
   "source": [
    "#--- Create the sample data ---\n",
    "\n",
    "#--- Manual Bin Definition ---\n",
    "var1Edges = np.arange(0,1+0.01,0.1)\n",
    "var2Edges = np.arange(0,1+0.01,0.1)\n",
    "\n",
    "#--- Manual Value Definition ---\n",
    "var1Values = np.random.rand(10000)\n",
    "var2Values = np.random.rand(10000)"
   ]
  },
  {
   "cell_type": "code",
   "execution_count": null,
   "metadata": {
    "collapsed": false
   },
   "outputs": [],
   "source": [
    "#--- Create ClickHist using a proper call ---\n",
    "%qtconsole\n",
    "\n",
    "ClickHist1 = ClickHist.ClickHist(var1Edges,var2Edges,var1Values,var2Values,\n",
    "                                xVarName=var1ValueName,yVarName=var2ValueName,\n",
    "                                xUnits=var1Units,yUnits=var2Units,\n",
    "                                xFmtStr=var1FmtStr,yFmtStr=var2FmtStr,\n",
    "                                maxPlottedInBin=maxPlottedInBin_UD)\n",
    "ClickHist1.showPlot()"
   ]
  }
 ],
 "metadata": {
  "kernelspec": {
   "display_name": "Python 2",
   "language": "python",
   "name": "python2"
  },
  "language_info": {
   "codemirror_mode": {
    "name": "ipython",
    "version": 2
   },
   "file_extension": ".py",
   "mimetype": "text/x-python",
   "name": "python",
   "nbconvert_exporter": "python",
   "pygments_lexer": "ipython2",
   "version": "2.7.10"
  }
 },
 "nbformat": 4,
 "nbformat_minor": 0
}
