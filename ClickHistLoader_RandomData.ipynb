{
 "cells": [
  {
   "cell_type": "markdown",
   "metadata": {},
   "source": [
    "## Clickable Histogram (ClickHist)\n",
    "\n",
    "Author: [Matthew Niznik](http://matthewniznik.com) ([matt@matthewniznik.com](mailto:matt@matthewniznik.com))<br>\n",
    "Post-Doctoral Associate, RSMAS, University of Miami\n",
    "\n",
    "For more information, see:<br>\n",
    "https://github.com/matthewniznik/ClickHist/wiki<br>\n",
    "http://matthewniznik.com/research-projects/clickhist<br>\n",
    "\n",
    "(Note: iPython Notebook needs a few tweaks to work most seemlessly with ClickHist and ClickHistDo instances - those will be pointed out below as they come up.)"
   ]
  },
  {
   "cell_type": "markdown",
   "metadata": {},
   "source": [
    "# Let's get started\n",
    "## (0) Imports\n",
    "### Import the necessary modules needed for CHAD to work\n",
    "\n",
    "*Currently supported graphics backends are Qt4Agg ('qt4') and TK ('tk')*"
   ]
  },
  {
   "cell_type": "code",
   "execution_count": null,
   "metadata": {
    "collapsed": true
   },
   "outputs": [],
   "source": [
    "#%matplotlib tk\n",
    "%matplotlib qt4\n",
    "import matplotlib\n",
    "#matplotlib.use('TkAgg')\n",
    "#matplotlib.use('Qt4Agg')\n",
    "\n",
    "from IPython.display import clear_output\n",
    "import numpy as np\n",
    "import sys\n",
    "\n",
    "import ClickHist\n",
    "\n",
    "# User-specified imports\n",
    "# You can put your custom imports here"
   ]
  },
  {
   "cell_type": "markdown",
   "metadata": {},
   "source": [
    "### Fixing the output so it isn't buffered\n",
    "(*See [this link](http://stackoverflow.com/questions/29772158/make-ipython-notebook-print-in-real-time) for more info*)"
   ]
  },
  {
   "cell_type": "code",
   "execution_count": null,
   "metadata": {
    "collapsed": true
   },
   "outputs": [],
   "source": [
    "oldsysstdout = sys.stdout\n",
    "class flushfile():\n",
    "    def __init__(self, f):\n",
    "        self.f = f\n",
    "    def __getattr__(self,name): \n",
    "        return object.__getattribute__(self.f, name)\n",
    "    def write(self, x):\n",
    "        self.f.write(x)\n",
    "        self.f.flush()\n",
    "    def flush(self):\n",
    "        self.f.flush()\n",
    "sys.stdout = flushfile(sys.stdout)"
   ]
  },
  {
   "cell_type": "markdown",
   "metadata": {},
   "source": [
    "## (1) Setting the data\n",
    "### Below are some options for sample ClickHist data\n",
    "**var1Values** and **var2Values** are used later to set up ClickHist - if you change the variable names here, be sure to change them in the cell that creates ClickHist<br><br>\n",
    "If you would rather load data in and not manually specify variable values, this cell (or a new, empty cell above this one) is an appropriate location"
   ]
  },
  {
   "cell_type": "code",
   "execution_count": null,
   "metadata": {
    "collapsed": true
   },
   "outputs": [],
   "source": [
    "numOfValues = 10000"
   ]
  },
  {
   "cell_type": "markdown",
   "metadata": {},
   "source": [
    "### Data randomly distributed between -1 and 1 on both axes"
   ]
  },
  {
   "cell_type": "code",
   "execution_count": null,
   "metadata": {
    "collapsed": true
   },
   "outputs": [],
   "source": [
    "var1Values = (0.5-np.random.rand(numOfValues))*2\n",
    "var2Values = (0.5-np.random.rand(numOfValues))*2"
   ]
  },
  {
   "cell_type": "markdown",
   "metadata": {},
   "source": [
    "### Data normally distributed around 0 on both axes"
   ]
  },
  {
   "cell_type": "code",
   "execution_count": null,
   "metadata": {
    "collapsed": true
   },
   "outputs": [],
   "source": [
    "var1Values = np.random.normal(loc=0., scale=0.2, size=numOfValues)\n",
    "var2Values = np.random.normal(loc=0., scale=0.2, size=numOfValues)"
   ]
  },
  {
   "cell_type": "markdown",
   "metadata": {},
   "source": [
    "### Data oriented in an 'X' shape"
   ]
  },
  {
   "cell_type": "code",
   "execution_count": null,
   "metadata": {
    "collapsed": true
   },
   "outputs": [],
   "source": [
    "#randomValues = (0.5-np.random.rand(numOfValues))*2\n",
    "randomValues = np.random.normal(loc=0.0, scale=0.25, size=numOfValues)\n",
    "var1Values = randomValues+np.random.normal(loc=0.0, scale=0.1,\n",
    "                                           size=numOfValues)\n",
    "var2Values = np.zeros(numOfValues)\n",
    "for i in range(0, numOfValues):\n",
    "    if np.random.random() < 0.5:\n",
    "        var2Values[i] = randomValues[i]\n",
    "    else:\n",
    "        var2Values[i] = -1.*randomValues[i]\n",
    "    var2Values[i] = var2Values[i] + np.random.normal(loc=0.0, scale=0.1)"
   ]
  },
  {
   "cell_type": "markdown",
   "metadata": {},
   "source": [
    "### Now define the bins for each axis"
   ]
  },
  {
   "cell_type": "code",
   "execution_count": null,
   "metadata": {
    "collapsed": true
   },
   "outputs": [],
   "source": [
    "var1Edges = np.arange(-1.1, 1.1+0.01, 0.2)\n",
    "var2Edges = np.arange(-1.1, 1.1+0.01, 0.2)"
   ]
  },
  {
   "cell_type": "markdown",
   "metadata": {},
   "source": [
    "### The following (less often edited) items are set to default values here. Change them if desired."
   ]
  },
  {
   "cell_type": "code",
   "execution_count": null,
   "metadata": {
    "collapsed": true
   },
   "outputs": [],
   "source": [
    "# User Changeable Parameters (and appropriate libraries)\n",
    "\n",
    "# Figure Size and Resolution\n",
    "# Set the figure x by y resolution, DPI, and the max number of points\n",
    "# to appear in a given bin\n",
    "# (Plotting time as well as finding an individual event prohibitive\n",
    "# for very large maxPlottedInBin values)\n",
    "# (These are OPTIONAL inputs to ClickHist: figX=?, figY=?,\n",
    "# figDPI=?, maxPlottedInBin=?)\n",
    "figureXSize = 800\n",
    "figureYSize = 800\n",
    "figDPI = 150\n",
    "maxPlottedInBin_UD = 1000\n",
    "\n",
    "# Formatting for Output\n",
    "# Basic Help: The number after the decimal point sets the number of\n",
    "# decimal points shown in output\n",
    "# For more on Python string formatting, see:\n",
    "# (https://mkaz.github.io/2012/10/10/python-string-format/)\n",
    "# These are OPTIONAL inputs to ClickHist: xFmtStr=?,yFmtStr=?)\n",
    "var1FmtStr = \"{:0.3f}\"\n",
    "var2FmtStr = \"{:0.3f}\"\n",
    "\n",
    "# Variable Names and Units\n",
    "# These are optional descriptive inputs to both ClickHist\n",
    "# and (some) to ClickHistDo so that the ClickHist\n",
    "# and the output bundle are labeled properly\n",
    "var1Name = 'Sample X'\n",
    "var2Name = 'Sample Y'\n",
    "var1Units = 'units'\n",
    "var2Units = 'units'\n",
    "metadata_UD = 'Sample Metadata'\n",
    "\n",
    "# Unit correction options\n",
    "# If the units in the input file are not what is desired,\n",
    "# they can be corrected during the load with these multipliers.\n",
    "var1ValueMult = 1.\n",
    "var2ValueMult = 1.\n",
    "\n",
    "# Quantiles to plot\n",
    "# If you are interested in any threshold in both X and Y,\n",
    "# set it here.\n",
    "# (e.g. 90th percentile and 95th percentile, input [90, 95])\n",
    "quantiles = [0.01,0.1,1,5,95,99,99.9,99.99]"
   ]
  },
  {
   "cell_type": "markdown",
   "metadata": {},
   "source": [
    "# (2) Create the ClickHist Instance\n",
    "(*Note that ClickHistDo can be created before ClickHist here as well, though for the basic test none is needed*)"
   ]
  },
  {
   "cell_type": "markdown",
   "metadata": {},
   "source": [
    "### Create the ClickHist Instance!"
   ]
  },
  {
   "cell_type": "code",
   "execution_count": null,
   "metadata": {
    "collapsed": false
   },
   "outputs": [],
   "source": [
    "#%qtconsole\n",
    "ClickHist1 = ClickHist.ClickHist(var1Edges,var2Edges,\n",
    "                                 var1Values,var2Values,\n",
    "                                 xVarName=var1Name, yVarName=var2Name,\n",
    "                                 xUnits=var1Units, yUnits=var2Units,\n",
    "                                 xFmtStr=var1FmtStr,\n",
    "                                 yFmtStr=var2FmtStr,\n",
    "                                 maxPlottedInBin=maxPlottedInBin_UD,\n",
    "                                 quantiles=quantiles)\n",
    "ClickHist1.showPlot()"
   ]
  },
  {
   "cell_type": "code",
   "execution_count": null,
   "metadata": {
    "collapsed": true
   },
   "outputs": [],
   "source": []
  }
 ],
 "metadata": {
  "kernelspec": {
   "display_name": "Python 2",
   "language": "python",
   "name": "python2"
  },
  "language_info": {
   "codemirror_mode": {
    "name": "ipython",
    "version": 2
   },
   "file_extension": ".py",
   "mimetype": "text/x-python",
   "name": "python",
   "nbconvert_exporter": "python",
   "pygments_lexer": "ipython2",
   "version": "2.7.11"
  }
 },
 "nbformat": 4,
 "nbformat_minor": 0
}
