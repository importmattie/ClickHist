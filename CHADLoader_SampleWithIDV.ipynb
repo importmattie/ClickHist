{
 "cells": [
  {
   "cell_type": "markdown",
   "metadata": {},
   "source": [
    "Clickable Histogram (ClickHist) + Atmospheric Data Input =\n",
    "Clickable Histogram of Atmospheric Data (CHAD)\n",
    "\n",
    "Author: Matthew Niznik (matthew.niznik9@gmail.com)<br>\n",
    "Post-Doctoral Associate, RSMAS, University of Miami\n",
    "\n",
    "For more information, see:<br>\n",
    "https://sites.google.com/site/matthewjniznik/research/<br>\n",
    "https://sites.google.com/site/matthewjniznik/research/chad\n",
    "\n",
    "(Note: iPython Notebook needs a few tweaks to work most seemlessly with ClickHist and ClickHistDo instances - those will be pointed out below as they come up.)"
   ]
  },
  {
   "cell_type": "code",
   "execution_count": 1,
   "metadata": {
    "collapsed": false
   },
   "outputs": [],
   "source": [
    "#----- User Changeable Parameters (and appropriate libraries) -----\n",
    "\n",
    "#----- Figure Size and Resolution -----\n",
    "#Set the figure x by y resolution, DPI, and the max number of points to appear in a given bin\n",
    "#(Plotting time as well as finding an individual event prohibitive for very large maxPlottedInBin values)\n",
    "#(These are OPTIONAL inputs to ClickHist: figX=?, figY=?, figDPI=?, maxPlottedInBin=?)\n",
    "figureXSize = 800\n",
    "figureYSize = 800\n",
    "figDPI = 150\n",
    "maxPlottedInBin_UD = 1000\n",
    "\n",
    "#----- Formatting for Output -----\n",
    "#Basic Help: The number after the decimal point sets the number of decimal points shown in output\n",
    "#For more on Python string formatting, see:\n",
    "#(https://mkaz.github.io/2012/10/10/python-string-format/)\n",
    "#These are OPTIONAL inputs to ClickHist: xFmtStr=?,yFmtStr=?)\n",
    "var1FmtStr = \"{:2.0f}\"\n",
    "var2FmtStr = \"{:4.0f}\"\n",
    "\n",
    "#----- Set the URL/Filepath for load files as well as the variable names to load -----\n",
    "#Note: Loading bin edges is no longer necessary - they could also be manually specified as a numpy array\n",
    "#and passed to ClickHist. This is a relic of when ClickHist needed a histogram passed to it.\n",
    "\n",
    "#urlToLoadHist = '/path/to/your/directory'\n",
    "urlToLoad = 'https://weather.rsmas.miami.edu/repository/opendap/synth:4fd8f0b4-7cc2-411a-9b61-2ef0c24c1637:L0hWX3I5MHg0NV8zXzBFNU5fSE1WX0tFRE9ULm5jNA==/entry.das'\n",
    "\n",
    "#----- Variable names in input file(s) for bin edges and values -----\n",
    "var1EdgeName = 'HMVBINEDGES'\n",
    "var2EdgeName = 'KEDOTBINEDGES'\n",
    "var1ValueName = 'HMV'\n",
    "var2ValueName = 'KEDOT'\n",
    "\n",
    "#----- Variable names in input file(s) for data needed for ClickHistDo_IDV -----\n",
    "lonValueName = 'lon'\n",
    "latValueName = 'lat'\n",
    "timeValueName = 'time'\n",
    "\n",
    "#----- Variable Names and Units -----\n",
    "#These are optional descriptive inputs to both ClickHist and (some) to ClickHistDo\n",
    "#so that the ClickHist and the output bundle are labeled properly\n",
    "var1Name = 'HMV'\n",
    "var2Name = 'KEDot'\n",
    "var1Units = 'm2 s-2'\n",
    "var2Units = 'm3 s-3'\n",
    "metadata_UD = 'HMV vs KEDot: 0-36 E, 10-30 N'\n",
    "\n",
    "#----- Unit correction options -----\n",
    "#If the units in the input file are not what is desired, they can be corrected during the load with\n",
    "#these multipliers.\n",
    "var1ValueMult = 1.\n",
    "var2ValueMult = 1."
   ]
  },
  {
   "cell_type": "code",
   "execution_count": 2,
   "metadata": {
    "collapsed": false
   },
   "outputs": [],
   "source": [
    "#----- Setting the GUI -----\n",
    "#ClickHist is currently optimized for tk\n",
    "#For more options see section \"%matplotlib\" at\n",
    "#https://ipython.org/ipython-doc/3/interactive/magics.html\n",
    "\n",
    "#----- Matplotlib for graphics, set tk too -----\n",
    "%matplotlib tk\n",
    "import matplotlib\n",
    "\n",
    "#----- Modules for fixing the buffer in cell 3 -----\n",
    "from IPython.display import clear_output\n",
    "import sys\n",
    "\n",
    "#----- numpy to create the sample input arrays -----\n",
    "import numpy as np\n",
    "\n",
    "#----- supress warnings from log10(0) -> handled in code -----\n",
    "#----- Would rather not supress ALL warnings right now - fixed at a later date? -----\n",
    "#import warnings\n",
    "#warnings.filterwarnings('ignore')\n",
    "\n",
    "#----- And obviously import ClickHist and ClickHistDo! -----\n",
    "import ClickHist_IDV as ClickHist\n",
    "import ClickHistDo_IDV as ClickHistDo\n",
    "\n",
    "#----- User-specified imports -----\n",
    "#Import netCDF4 to load the netCDF input file\n",
    "import netCDF4"
   ]
  },
  {
   "cell_type": "code",
   "execution_count": 3,
   "metadata": {
    "collapsed": true
   },
   "outputs": [],
   "source": [
    "#----- Fixing the output so it isn't buffered -----\n",
    "#See: http://stackoverflow.com/questions/29772158/make-ipython-notebook-print-in-real-time\n",
    "#Note: Nothing to edit in this cell!\n",
    "\n",
    "oldsysstdout = sys.stdout\n",
    "class flushfile():\n",
    "    def __init__(self, f):\n",
    "        self.f = f\n",
    "    def __getattr__(self,name): \n",
    "        return object.__getattribute__(self.f, name)\n",
    "    def write(self, x):\n",
    "        self.f.write(x)\n",
    "        self.f.flush()\n",
    "    def flush(self):\n",
    "        self.f.flush()\n",
    "sys.stdout = flushfile(sys.stdout)"
   ]
  },
  {
   "cell_type": "code",
   "execution_count": 4,
   "metadata": {
    "collapsed": false
   },
   "outputs": [],
   "source": [
    "#----- Manual Bin Definition -----\n",
    "#Later call to create ClickHist uses the below variable names\n",
    "#You should probably leave the names alone\n",
    "#var1Edges = np.arange(0,1+0.01,0.1)\n",
    "#var2Edges = np.arange(0,1+0.01,0.1)\n",
    "\n",
    "#----- Load the Data -----\n",
    "cdfIn = netCDF4.Dataset(urlToLoad,'r')\n",
    "\n",
    "#----- Bin Edge and Value Data -----\n",
    "#Later call to create ClickHist uses the below variable names\n",
    "#You should probably leave the names alone\n",
    "var1Edges = cdfIn.variables[var1EdgeName][:]\n",
    "var2Edges = cdfIn.variables[var2EdgeName][:]\n",
    "var1Values = cdfIn.variables[var1ValueName][:]*var1ValueMult\n",
    "var2Values = cdfIn.variables[var2ValueName][:]*var2ValueMult\n",
    "\n",
    "#----- Data for ClickHistDo_IDV -----\n",
    "lonValues = cdfIn.variables[lonValueName][:]\n",
    "latValues = cdfIn.variables[latValueName][:]\n",
    "timeValues = cdfIn.variables[timeValueName][:]\n",
    "cdfIn.close()"
   ]
  },
  {
   "cell_type": "code",
   "execution_count": 5,
   "metadata": {
    "collapsed": false,
    "scrolled": true
   },
   "outputs": [
    {
     "name": "stdout",
     "output_type": "stream",
     "text": [
      "Saving IDV bundle...\n",
      "2005-06-08 04:30:00\n",
      "Saved!\n"
     ]
    }
   ],
   "source": [
    "#----- Create ClickHist using a proper call -----\n",
    "#If you only changed variable values in cells 1 and 4 above,\n",
    "#ClickHist is ready to go!\n",
    "\n",
    "#This call is necessary to create the output console for ClickHist\n",
    "%qtconsole\n",
    "\n",
    "#----- Create a ClickHistDo instance -----\n",
    "ClickHistDo1 = ClickHistDo.ClickHistDo(lonValues,latValues,timeValues,\n",
    "                                      xVarName=var1ValueName,yVarName=var2ValueName)\n",
    "#----- Create a ClickHist instance -----\n",
    "ClickHist1 = ClickHist.ClickHist(var1Edges,var2Edges,var1Values,var2Values,\n",
    "                                xVarName=var1Name,yVarName=var2Name,\n",
    "                                xUnits=var1Units,yUnits=var2Units,\n",
    "                                xFmtStr=var1FmtStr,yFmtStr=var2FmtStr,\n",
    "                                maxPlottedInBin=maxPlottedInBin_UD,\n",
    "                                metadata=metadata_UD)\n",
    "#----- Set ClickHistDo1 to be the official \"action\" for ClickHist -----\n",
    "ClickHist1.setDo(ClickHistDo1)\n",
    "\n",
    "#----- Show the ClickHist -----\n",
    "ClickHist1.showPlot()"
   ]
  }
 ],
 "metadata": {
  "kernelspec": {
   "display_name": "Python 2",
   "language": "python",
   "name": "python2"
  },
  "language_info": {
   "codemirror_mode": {
    "name": "ipython",
    "version": 2
   },
   "file_extension": ".py",
   "mimetype": "text/x-python",
   "name": "python",
   "nbconvert_exporter": "python",
   "pygments_lexer": "ipython2",
   "version": "2.7.10"
  }
 },
 "nbformat": 4,
 "nbformat_minor": 0
}
