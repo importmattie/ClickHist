{
 "cells": [
  {
   "cell_type": "markdown",
   "metadata": {},
   "source": [
    "Clickable Histogram (ClickHist) + Atmospheric Data Input =\n",
    "Clickable Histogram of Atmospheric Data (CHAD)\n",
    "\n",
    "Author: Matthew Niznik (matthew.niznik9@gmail.com)<br>\n",
    "Post-Doctoral Associate, RSMAS, University of Miami\n",
    "\n",
    "The purpose of the Clickable Histogram of Atmospheric Data (CHAD) is to load a two-dimensional histogram and the data used to generate it in order to create a scatterplot allowing the user to load the location and time that a particular datapoint in the plot came from using Unidata's Integrated Data Viewer (IDV) (http://www.unidata.ucar.edu/software/idv/).\n",
    "\n",
    "For more information, see https://sites.google.com/site/matthewjniznik/research/chad_instructions\n",
    "\n",
    "Creating an appropriate instance of the ClickHist and ClickHistDo classes generates the plot from the input data and then waits for user input clicks.\n",
    "\n",
    "(Note: iPython Notebook needs a few tweaks to work most seemlessly with ClickHist and ClickHistDo instances - those will be pointed out below as they come up.)"
   ]
  },
  {
   "cell_type": "code",
   "execution_count": 11,
   "metadata": {
    "collapsed": false
   },
   "outputs": [],
   "source": [
    "#--- User Changeable Parameters (and appropriate libraries) ---\n",
    "\n",
    "#--- Figure Size and Resolution ---\n",
    "#--- Set the figure x by y resolution, DPI, and the max number of points to appear in a given bin ---\n",
    "#--- (Plotting time as well as finding an individual event prohibitive for very large maxPlottedInBin values)\n",
    "#--- (These are OPTIONAL inputs to ClickHist: figX=?, figY=?, figDPI=?, maxPlottedInBin=?)\n",
    "figureXSize = 800\n",
    "figureYSize = 800\n",
    "figDPI = 150\n",
    "maxPlottedInBin_UD = 1000\n",
    "\n",
    "#--- Formatting for Output ---\n",
    "#--- Basic Help: The number after the decimal point sets the number of decimal points shown in output ---\n",
    "#--- For more on Python string formatting, see: () ---\n",
    "#--- (These are OPTIONAL inputs to ClickHist: xFmtStr=?,yFmtStr=?)\n",
    "var1FmtStr = \"%2i\"\n",
    "var2FmtStr = \"%4i\"\n",
    "\n",
    "#--- Set the URL/Filepath for load files as well as the variable names to load ---\n",
    "\n",
    "#Note: Loading bin edges is no longer necessary - they could also be manually specified as a numpy array\n",
    "#and passed to ClickHist. This is a relic of when ClickHist needed a histogram passed to it.\n",
    "#urlToLoadHist = '/path/to/your/directory'\n",
    "urlToLoadHist = 'https://weather.rsmas.miami.edu/repository/opendap/synth:4fd8f0b4-7cc2-411a-9b61-2ef0c24c1637:L0hWX3I5MHg0NV8zXzBFNU5fSE1WX0tFRE9ULm5jNA==/entry.das'\n",
    "var1EdgeName = 'HMVBINEDGES'\n",
    "var2EdgeName = 'KEDOTBINEDGES'\n",
    "\n",
    "urlToLoadValues = urlToLoadHist\n",
    "var1ValueName = 'HMV'\n",
    "var2ValueName = 'KEDOT'\n",
    "lonValueName = 'lon'\n",
    "latValueName = 'lat'\n",
    "timeValueName = 'time'\n",
    "\n",
    "#--- Variable Names and Units ---\n",
    "#These are optional descriptive inputs to both ClickHist and (some) to ClickHistDo\n",
    "#so that the ClickHist and the output bundle are labeled properly\n",
    "var1Name = 'HMV'\n",
    "var2Name = 'KEDot'\n",
    "var1Units = 'm2 s-2'\n",
    "var2Units = 'm3 s-3'\n",
    "\n",
    "#--- Unit correction options ---\n",
    "#If the units in the input file are not what is desired, they can be corrected during the load with\n",
    "#these multipliers.\n",
    "var1ValueMult = 1.\n",
    "var2ValueMult = 1."
   ]
  },
  {
   "cell_type": "code",
   "execution_count": 12,
   "metadata": {
    "collapsed": false
   },
   "outputs": [],
   "source": [
    "#--- Setting the GUI ---\n",
    "#--- ClickHist is currently optimized for tk ---\n",
    "#--- For more options see section \"%matplotlib\" at ---\n",
    "#--- https://ipython.org/ipython-doc/3/interactive/magics.html ---\n",
    "%matplotlib tk\n",
    "\n",
    "from IPython.display import clear_output\n",
    "\n",
    "import matplotlib\n",
    "\n",
    "import netCDF4\n",
    "\n",
    "import sys\n",
    "\n",
    "import ClickHist_IDV as ClickHist\n",
    "import ClickHistDo_IDV as ClickHistDo"
   ]
  },
  {
   "cell_type": "code",
   "execution_count": 13,
   "metadata": {
    "collapsed": true
   },
   "outputs": [],
   "source": [
    "#--- Fixing the output so it isn't buffered ---\n",
    "#--- See: http://stackoverflow.com/questions/29772158/make-ipython-notebook-print-in-real-time ---\n",
    "\n",
    "oldsysstdout = sys.stdout\n",
    "class flushfile():\n",
    "    def __init__(self, f):\n",
    "        self.f = f\n",
    "    def __getattr__(self,name): \n",
    "        return object.__getattribute__(self.f, name)\n",
    "    def write(self, x):\n",
    "        self.f.write(x)\n",
    "        self.f.flush()\n",
    "    def flush(self):\n",
    "        self.f.flush()\n",
    "sys.stdout = flushfile(sys.stdout)"
   ]
  },
  {
   "cell_type": "code",
   "execution_count": 14,
   "metadata": {
    "collapsed": false
   },
   "outputs": [],
   "source": [
    "#--- Load the Data ---\n",
    "\n",
    "#--- Histogram Data ---\n",
    "cdfInHist = netCDF4.Dataset(urlToLoadHist,'r')\n",
    "var1Edges = cdfInHist.variables[var1EdgeName][:]\n",
    "var2Edges = cdfInHist.variables[var2EdgeName][:]\n",
    "cdfInHist.close()\n",
    "\n",
    "#--- Manual Bin Definition ---\n",
    "#var1Edges = numpy.arange(0,1+0.01,0.1)\n",
    "#var2Edges = numpy.arange(0,1+0.01,0.1)\n",
    "\n",
    "#--- Value Data ---\n",
    "cdfInValues = netCDF4.Dataset(urlToLoadValues,'r')\n",
    "var1Values = cdfInValues.variables[var1ValueName][:]*var1ValueMult\n",
    "var2Values = cdfInValues.variables[var2ValueName][:]*var2ValueMult\n",
    "lonValues = cdfInValues.variables[lonValueName][:]\n",
    "latValues = cdfInValues.variables[latValueName][:]\n",
    "timeValues = cdfInValues.variables[timeValueName][:]\n",
    "cdfInValues.close()"
   ]
  },
  {
   "cell_type": "code",
   "execution_count": 15,
   "metadata": {
    "collapsed": false
   },
   "outputs": [],
   "source": [
    "#--- Create ClickHist/CHAD using a proper call ---\n",
    "%qtconsole\n",
    "\n",
    "ClickHistDo1 = ClickHistDo.ClickHistDo(lonValues,latValues,timeValues,\n",
    "                                      xVarName=var1ValueName,yVarName=var2ValueName)\n",
    "ClickHist1 = ClickHist.ClickHist(var1Edges,var2Edges,var1Values,var2Values,\n",
    "                                xVarName=var1ValueName,yVarName=var2ValueName,\n",
    "                                xUnits=var1Units,yUnits=var2Units,\n",
    "                                xFmtStr=var1FmtStr,yFmtStr=var2FmtStr,\n",
    "                                maxPlottedInBin=maxPlottedInBin_UD)\n",
    "ClickHist1.setDo(ClickHistDo1)\n",
    "ClickHist1.showPlot()"
   ]
  }
 ],
 "metadata": {
  "kernelspec": {
   "display_name": "Python 2",
   "language": "python",
   "name": "python2"
  },
  "language_info": {
   "codemirror_mode": {
    "name": "ipython",
    "version": 2
   },
   "file_extension": ".py",
   "mimetype": "text/x-python",
   "name": "python",
   "nbconvert_exporter": "python",
   "pygments_lexer": "ipython2",
   "version": "2.7.10"
  }
 },
 "nbformat": 4,
 "nbformat_minor": 0
}
