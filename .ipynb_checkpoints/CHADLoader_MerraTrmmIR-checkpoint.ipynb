{
 "cells": [
  {
   "cell_type": "markdown",
   "metadata": {},
   "source": [
    "## Clickable Histogram of Atmospheric Data (CHAD)\n",
    "### *(Clickable Histogram (ClickHist) + Atmospheric Data Input)*\n",
    "\n",
    "Author: [Matthew Niznik](http://matthewniznik.com) ([matt@matthewniznik.com](mailto:matt@matthewniznik.com))<br>\n",
    "Post-Doctoral Associate, RSMAS, University of Miami\n",
    "\n",
    "For more information, see:<br>\n",
    "https://github.com/matthewniznik/ClickHist/wiki<br>\n",
    "http://matthewniznik.com/research-projects/clickhist<br>\n",
    "\n",
    "(Note: iPython Notebook needs a few tweaks to work most seemlessly with ClickHist and ClickHistDo instances - those will be pointed out below as they come up.)"
   ]
  },
  {
   "cell_type": "markdown",
   "metadata": {},
   "source": [
    "## Choose the *template bundle*: an IDV bundle with a bunch of data sources and displays, set to a reference area and time. \n",
    "\n",
    "It will get edited by this notebook's actions to center the view on the place and time of interest, based on the point you click in a statistical scatterplot. The resulting repositioned .xidv bundle is written to a file whose name has information about the statistical selection you make to create it (quantiles of the 2 variables in your scatter plot). "
   ]
  },
  {
   "cell_type": "code",
   "execution_count": 14,
   "metadata": {
    "collapsed": true
   },
   "outputs": [],
   "source": [
    "# Name of template IDV bundle template - no path needed\n",
    "bundleInFilename = 'ClickHist_merraTrmmIR.xidv'"
   ]
  },
  {
   "cell_type": "markdown",
   "metadata": {},
   "source": [
    "### In this cell, you choose two variables to scatterplot. \n",
    "You also choose a dataset (file or URL, its format must conform to xxx). And you choose spatial bounds to subset your scatter points."
   ]
  },
  {
   "cell_type": "code",
   "execution_count": 26,
   "metadata": {
    "collapsed": false
   },
   "outputs": [],
   "source": [
    "# Variable names in input file(s) for bin edges and values\n",
    "# urlToLoadHist = '/path/to/your/directory'\n",
    "#urlToLoad = 'http://goldsmr2.sci.gsfc.nasa.gov/dods/MAT1NXFLX'\n",
    "#urlToLoad = 'http://goldsmr2.sci.gsfc.nasa.gov/opendap/MERRA/MAT1NXFLX.5.2.0/1979/01/MERRA100.prod.assim.tavg1_2d_flx_Nx.19790101.hdf'\n",
    "# Temporarily using CFSR data in lieu of MERRA\n",
    "urlToLoad = 'https://weather.rsmas.miami.edu/repository/opendap/synth:eab82de2-d682-4dc0-ba8b-2fac7746d269:L0NGU1JfcjE0NHg3Ml8yNC5uYzQ=/entry.das'\n",
    "#urlToLoad = 'http://weather.rsmas.miami.edu/repository/opendap/synth:28309f4c-d02c-43bc-8e67-d959a3a2ee49:L01FUlJBLnByb2QuYXNzaW0udGF2ZzFfMmRfbG5kX054LjE5OTdfMjAxNF9maXhlZC5uYw==/entry.das'\n",
    "\n",
    "var1ValueName = 'precip'\n",
    "var1Name = 'Total Precipitation'\n",
    "var1Units = 'mm day-1'\n",
    "var1ValueMult = 86400.   # Units and this scale factor should be made compatible \n",
    "\n",
    "var2ValueName = 'olr'\n",
    "var2Name = 'Outgoing Longwave Radiation'\n",
    "var2Units = 'W m-2'\n",
    "var2ValueMult = 1.      # Units and this scale factor should be made compatible \n",
    "\n",
    "# Regions to be loaded from the file\n",
    "# All must be defined. lon in degE (-180 to 180), lat in degN (-90 to 90)\n",
    "lonLow = -160.\n",
    "lonHigh = -140.\n",
    "latLow = -20.\n",
    "latHigh = 0.\n",
    "\n",
    "# bundle up all of the above as metadata \n",
    "metadata_UD = (var1ValueName+' vs '+var2ValueName+': '+\n",
    "               str(lonLow)+' to '+str(lonHigh)+' E, '+\n",
    "               str(latLow)+' to '+str(latHigh)+' N')"
   ]
  },
  {
   "cell_type": "markdown",
   "metadata": {},
   "source": [
    "### Here are some scatter plot formatting choices, no need to edit"
   ]
  },
  {
   "cell_type": "code",
   "execution_count": 27,
   "metadata": {
    "collapsed": false
   },
   "outputs": [],
   "source": [
    "import numpy as np\n",
    "\n",
    "# Manual Bin Definition for discrete density coloring of scatter points\n",
    "var1Edges = np.arange(0,100.+0.01,10.)\n",
    "var2Edges = np.arange(120.,320.+0.01,20.)\n",
    "\n",
    "# Formatting for Output\n",
    "# Basic Help: The number after the decimal point sets the number\n",
    "# of decimal points shown in output\n",
    "# For more on Python string formatting, see:\n",
    "# (https://mkaz.github.io/2012/10/10/python-string-format/)\n",
    "# These are OPTIONAL inputs to ClickHist: xFmtStr=?,yFmtStr=?)\n",
    "var1FmtStr = \"{:3.0f}\"\n",
    "var2FmtStr = \"{:3.0f}\"\n",
    "\n",
    "# Variable names in input file(s) for data needed for ClickHistDo_IDV\n",
    "lonValueName = 'lon'\n",
    "latValueName = 'lat'\n",
    "timeValueName = 'time'\n",
    "\n",
    "# Set appropriate multiplier if time variable is not in units\n",
    "# Set appropriate offset if time math is inconsistent\n",
    "# \"seconds since [date]\"\n",
    "timeValueMult = 86400\n",
    "timeValueOffset = 0\n",
    "\n",
    "# datetime for setting the first data point's time\n",
    "# More accurately, the starting point for counting\n",
    "# for the time variable later on. This might be different\n",
    "# from the time of the first data if timeValues[0] is not 0.\n",
    "import datetime\n",
    "startYear = 1979\n",
    "startMonth = 1\n",
    "startDay = 1\n",
    "startHour = 0\n",
    "startMinute = 0\n",
    "startSecond = 0\n",
    "startDatetime = datetime.datetime(startYear,startMonth,startDay,\n",
    "                                  startHour,startMinute,startSecond)\n",
    "# Figure Size and Resolution\n",
    "# Set the figure x by y resolution, DPI, and the max number of points\n",
    "# to appear in a given bin\n",
    "# (Plotting time as well as finding an individual event prohibitive\n",
    "# for very large maxPlottedInBin values)\n",
    "# (These are OPTIONAL inputs to ClickHist: figX=?, figY=?,\n",
    "# figDPI=?, maxPlottedInBin=?)\n",
    "figureXSize = 800\n",
    "figureYSize = 800\n",
    "figDPI = 150\n",
    "maxPlottedInBin_UD = 1000"
   ]
  },
  {
   "cell_type": "markdown",
   "metadata": {},
   "source": [
    "### * There should be nothing to change in the following two cells. *<br>"
   ]
  },
  {
   "cell_type": "code",
   "execution_count": 28,
   "metadata": {
    "collapsed": false
   },
   "outputs": [],
   "source": [
    "# Setting the GUI\n",
    "# ClickHist is currently optimized for tk\n",
    "# For more options see section \"%matplotlib\" at\n",
    "# https://ipython.org/ipython-doc/3/interactive/magics.html\n",
    "\n",
    "# datetime for setting the first data point's time\n",
    "import datetime\n",
    "\n",
    "# matplotlib for graphics, set tk too\n",
    "# %matplotlib osx is experimental\n",
    "%matplotlib tk\n",
    "#%matplotlib osx\n",
    "import matplotlib\n",
    "\n",
    "# (Note: for debugging, replace '%' command with\n",
    "# matplotlib.use)\n",
    "#matplotlib.use('TkAgg')\n",
    "\n",
    "# Modules for fixing the buffer in cell 3\n",
    "from IPython.display import clear_output\n",
    "import sys\n",
    "\n",
    "# And obviously import ClickHist and ClickHistDo!\n",
    "import ClickHist_IDV as ClickHist\n",
    "import ClickHistDo_IDV as ClickHistDo\n",
    "\n",
    "# User-specified imports\n",
    "# Import netCDF4 to load the netCDF input file\n",
    "import netCDF4"
   ]
  },
  {
   "cell_type": "code",
   "execution_count": 29,
   "metadata": {
    "collapsed": true
   },
   "outputs": [],
   "source": [
    "# Fixing the output so it isn't buffered\n",
    "# See: http://stackoverflow.com/questions/29772158/make-ipython-notebook-print-in-real-time\n",
    "\n",
    "oldsysstdout = sys.stdout\n",
    "class flushfile():\n",
    "    def __init__(self, f):\n",
    "        self.f = f\n",
    "    def __getattr__(self,name): \n",
    "        return object.__getattribute__(self.f, name)\n",
    "    def write(self, x):\n",
    "        self.f.write(x)\n",
    "        self.f.flush()\n",
    "    def flush(self):\n",
    "        self.f.flush()\n",
    "sys.stdout = flushfile(sys.stdout)\n",
    "\n",
    "def getIntEdges(dim,low,high):\n",
    "    lowInt = np.argmin(abs(dim-low))\n",
    "    highInt = np.argmin(abs(dim-high))\n",
    "    return lowInt,highInt"
   ]
  },
  {
   "cell_type": "markdown",
   "metadata": {},
   "source": [
    "### Read the scatter data using getIntEdges\n",
    "*Changes here might be necessary to manually override the times to load *<br>"
   ]
  },
  {
   "cell_type": "code",
   "execution_count": 30,
   "metadata": {
    "collapsed": false
   },
   "outputs": [
    {
     "data": {
      "text/plain": [
       "[u'lon', u'lat', u'time', u'precip', u'olr']"
      ]
     },
     "execution_count": 30,
     "metadata": {},
     "output_type": "execute_result"
    }
   ],
   "source": [
    "# Load the Data\n",
    "cdfIn = netCDF4.Dataset(urlToLoad,'r')\n",
    "cdfIn.variables.keys()"
   ]
  },
  {
   "cell_type": "code",
   "execution_count": 31,
   "metadata": {
    "collapsed": false
   },
   "outputs": [],
   "source": [
    "# Load the Data\n",
    "cdfIn = netCDF4.Dataset(urlToLoad,'r')\n",
    "\n",
    "# Data for ClickHistDo_IDV\n",
    "lonValues = cdfIn.variables[lonValueName][:]\n",
    "latValues = cdfIn.variables[latValueName][:]\n",
    "timeValues = cdfIn.variables[timeValueName][:]*timeValueMult\n",
    "\n",
    "lowLonInt,highLonInt = getIntEdges(lonValues,lonLow,lonHigh)\n",
    "lowLatInt,highLatInt = getIntEdges(latValues,latLow,latHigh)\n",
    "\n",
    "# Bin Edge and Value Data\n",
    "# Later call to create ClickHist uses the below variable names\n",
    "# You should probably leave the names alone\n",
    "#\n",
    "# N.B. that CHAD expects the data to be in the Python format\n",
    "# variable[times,latitudes,longitudes]. If this is not the default,\n",
    "# you will have to permute the data here (or ideally process it to)\n",
    "# match before loading - permutation could potentially take some\n",
    "# time.\n",
    "#\n",
    "#var1Values = cdfIn.variables[var1ValueName][:]\n",
    "#var2Values = cdfIn.variables[var2ValueName][:]\n",
    "var1Values = cdfIn.variables[var1ValueName][:,lowLatInt:highLatInt+1,lowLonInt:highLonInt+1]*var1ValueMult\n",
    "var2Values = cdfIn.variables[var2ValueName][:,lowLatInt:highLatInt+1,lowLonInt:highLonInt+1]*var2ValueMult\n",
    "\n",
    "lonValues = lonValues[lowLonInt:highLonInt+1]\n",
    "latValues = latValues[lowLatInt:highLatInt+1]\n",
    "\n",
    "cdfIn.close()"
   ]
  },
  {
   "cell_type": "markdown",
   "metadata": {},
   "source": [
    "## Create ClickHistDo and ClickHist "
   ]
  },
  {
   "cell_type": "code",
   "execution_count": 32,
   "metadata": {
    "collapsed": false,
    "scrolled": true
   },
   "outputs": [
    {
     "ename": "TypeError",
     "evalue": "__init__() takes exactly 7 arguments (6 given)",
     "output_type": "error",
     "traceback": [
      "\u001b[0;31m---------------------------------------------------------------------------\u001b[0m",
      "\u001b[0;31mTypeError\u001b[0m                                 Traceback (most recent call last)",
      "\u001b[0;32m<ipython-input-32-4184bd06ab7e>\u001b[0m in \u001b[0;36m<module>\u001b[0;34m()\u001b[0m\n\u001b[1;32m     11\u001b[0m                                        \u001b[0mbundleInFilename\u001b[0m\u001b[0;34m,\u001b[0m\u001b[0;34m\u001b[0m\u001b[0m\n\u001b[1;32m     12\u001b[0m                                        \u001b[0mxVarName\u001b[0m\u001b[0;34m=\u001b[0m\u001b[0mvar1ValueName\u001b[0m\u001b[0;34m,\u001b[0m\u001b[0;34m\u001b[0m\u001b[0m\n\u001b[0;32m---> 13\u001b[0;31m                                        yVarName=var2ValueName)\n\u001b[0m\u001b[1;32m     14\u001b[0m \u001b[0;31m# Create a ClickHist instance\u001b[0m\u001b[0;34m\u001b[0m\u001b[0;34m\u001b[0m\u001b[0m\n\u001b[1;32m     15\u001b[0m ClickHist1 = ClickHist.ClickHist(var1Edges,var2Edges,\n",
      "\u001b[0;31mTypeError\u001b[0m: __init__() takes exactly 7 arguments (6 given)"
     ]
    }
   ],
   "source": [
    "# If you only changed variables in cells 1 and 4 above,\n",
    "# ClickHist is ready to go!\n",
    "\n",
    "# This call is necessary to create the output console for ClickHist\n",
    "# (Note: for debugging, comment out '%' command)\n",
    "%qtconsole\n",
    "\n",
    "# Create a ClickHistDo instance\n",
    "ClickHistDo1 = ClickHistDo.ClickHistDo(lonValues,latValues,\n",
    "                                       timeValues,startDatetime,\n",
    "                                       bundleInFilename,\n",
    "                                       xVarName=var1ValueName,\n",
    "                                       yVarName=var2ValueName)\n",
    "# Create a ClickHist instance\n",
    "ClickHist1 = ClickHist.ClickHist(var1Edges,var2Edges,\n",
    "                                 var1Values,var2Values,\n",
    "                                xVarName=var1Name,yVarName=var2Name,\n",
    "                                xUnits=var1Units,yUnits=var2Units,\n",
    "                                xFmtStr=var1FmtStr,\n",
    "                                 yFmtStr=var2FmtStr,\n",
    "                                maxPlottedInBin=maxPlottedInBin_UD,\n",
    "                                metadata=metadata_UD)\n",
    "# Set ClickHistDo1 to be the official \"action\" for ClickHist\n",
    "ClickHist1.setDo(ClickHistDo1)\n",
    "\n",
    "# Show the ClickHist\n",
    "ClickHist1.showPlot()"
   ]
  },
  {
   "cell_type": "code",
   "execution_count": 36,
   "metadata": {
    "collapsed": false
   },
   "outputs": [
    {
     "data": {
      "text/plain": [
       "'precip'"
      ]
     },
     "execution_count": 36,
     "metadata": {},
     "output_type": "execute_result"
    }
   ],
   "source": [
    "var1ValueName"
   ]
  },
  {
   "cell_type": "code",
   "execution_count": null,
   "metadata": {
    "collapsed": true
   },
   "outputs": [],
   "source": []
  }
 ],
 "metadata": {
  "kernelspec": {
   "display_name": "Python 2",
   "language": "python",
   "name": "python2"
  },
  "language_info": {
   "codemirror_mode": {
    "name": "ipython",
    "version": 2
   },
   "file_extension": ".py",
   "mimetype": "text/x-python",
   "name": "python",
   "nbconvert_exporter": "python",
   "pygments_lexer": "ipython2",
   "version": "2.7.11"
  }
 },
 "nbformat": 4,
 "nbformat_minor": 0
}
